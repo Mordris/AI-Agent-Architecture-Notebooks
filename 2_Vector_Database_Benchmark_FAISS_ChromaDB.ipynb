{
  "cells": [
    {
      "cell_type": "code",
      "execution_count": null,
      "metadata": {
        "colab": {
          "base_uri": "https://localhost:8080/"
        },
        "collapsed": true,
        "id": "CB4rsw_Rlgm4",
        "outputId": "4f6e76d0-4bec-4bc2-f0a2-f8a7144c5677"
      },
      "outputs": [],
      "source": [
        "# First, install the necessary libraries\n",
        "!pip install faiss-cpu chromadb numpy"
      ]
    },
    {
      "cell_type": "code",
      "execution_count": null,
      "metadata": {
        "colab": {
          "base_uri": "https://localhost:8080/"
        },
        "id": "BXvMQSY_lVDj",
        "outputId": "67cc4ea9-225e-4bc4-d330-ac42a4262f2f"
      },
      "outputs": [],
      "source": [
        "import numpy as np\n",
        "import time\n",
        "\n",
        "# --- Setup: Create some data ---\n",
        "# In a real application, these vectors would come from an embedding model.\n",
        "# For this lab, we'll just use random data to focus on the databases.\n",
        "num_vectors = 10000\n",
        "vector_dim = 768  # A common dimension for embedding models\n",
        "\n",
        "print(f\"Generating {num_vectors} random vectors of dimension {vector_dim}...\")\n",
        "# This creates a set of vectors to be stored in the database\n",
        "db_vectors = np.float32(np.random.rand(num_vectors, vector_dim))\n",
        "# This creates a different set of vectors to query the database with\n",
        "query_vectors = np.float32(np.random.rand(100, vector_dim))\n",
        "print(\"Data generation complete.\")"
      ]
    },
    {
      "cell_type": "code",
      "execution_count": null,
      "metadata": {
        "colab": {
          "base_uri": "https://localhost:8080/"
        },
        "id": "P5Jzn9LEq2kd",
        "outputId": "6d07469b-6f07-4aa5-8054-b20d28716820"
      },
      "outputs": [],
      "source": [
        "# --- Part 1: In-Process with FAISS ---\n",
        "print(\"\\n--- Testing FAISS (In-Process) ---\")\n",
        "import faiss\n",
        "\n",
        "# 1. Build the index\n",
        "faiss_index = faiss.IndexFlatL2(vector_dim) # L2 is a distance metric (Euclidean)\n",
        "print(f\"Is the FAISS index trained? {faiss_index.is_trained}\")\n",
        "faiss_index.add(db_vectors)\n",
        "print(f\"Number of vectors in FAISS index: {faiss_index.ntotal}\")\n",
        "\n",
        "# 2. Time the search\n",
        "start_time = time.time()\n",
        "# k=5 means we want to find the 5 nearest neighbors for each query vector\n",
        "distances, indices = faiss_index.search(query_vectors, k=5)\n",
        "end_time = time.time()\n",
        "print(f\"FAISS search for {len(query_vectors)} vectors took: {end_time - start_time:.4f} seconds.\")\n"
      ]
    },
    {
      "cell_type": "code",
      "execution_count": null,
      "metadata": {
        "colab": {
          "base_uri": "https://localhost:8080/"
        },
        "id": "rHy02_Rdq5oy",
        "outputId": "b583df61-fbbc-423f-cf42-e6ec09482188"
      },
      "outputs": [],
      "source": [
        "# --- Part 2: Client-Server with ChromaDB ---\n",
        "print(\"\\n--- Testing ChromaDB (Client-Server) ---\")\n",
        "import chromadb\n",
        "\n",
        "# 1. Set up the client and collection.\n",
        "# This creates a \"persistent\" client that saves data to disk in the Colab environment.\n",
        "client = chromadb.PersistentClient(path=\"./chroma_db\")\n",
        "# We use get_or_create to avoid re-creating the collection every time we run the script.\n",
        "# If the collection already exists, we delete it and create a new one to ensure a clean run.\n",
        "try:\n",
        "    client.delete_collection(name=\"shootout_collection\")\n",
        "    print(\"Deleted existing collection.\")\n",
        "except:\n",
        "    print(\"No existing collection to delete.\")\n",
        "\n",
        "collection = client.get_or_create_collection(name=\"shootout_collection\")\n",
        "\n",
        "\n",
        "# 2. Add the data to the collection\n",
        "# ChromaDB requires string IDs for each vector. We'll just create simple IDs.\n",
        "# In a real app, these might be document IDs.\n",
        "vector_ids = [str(i) for i in range(num_vectors)]\n",
        "\n",
        "# Define a batch size for adding vectors\n",
        "batch_size = 1000  # You can adjust this based on your system's memory and ChromaDB's limits\n",
        "\n",
        "# Calculate the number of batches required\n",
        "num_batches = (num_vectors + batch_size - 1) // batch_size # Ceiling division\n",
        "\n",
        "print(f\"Adding {num_vectors} vectors to ChromaDB in {num_batches} batches (batch size: {batch_size})...\")\n",
        "\n",
        "# Add vectors in batches\n",
        "for i in range(num_batches):\n",
        "    start_index = i * batch_size\n",
        "    end_index = min((i + 1) * batch_size, num_vectors)\n",
        "    batch_ids = vector_ids[start_index:end_index]\n",
        "    batch_embeddings = db_vectors[start_index:end_index]\n",
        "\n",
        "    collection.add(\n",
        "        ids=batch_ids,\n",
        "        embeddings=batch_embeddings\n",
        "    )\n",
        "    print(f\"Batch {i+1}/{num_batches} added.\")\n",
        "\n",
        "\n",
        "print(f\"Number of vectors in ChromaDB collection: {collection.count()}\")\n",
        "\n",
        "# 3. Time the search\n",
        "start_time = time.time()\n",
        "# ChromaDB's query format is slightly different\n",
        "results = collection.query(\n",
        "    query_embeddings=query_vectors,\n",
        "    n_results=5\n",
        ")\n",
        "end_time = time.time()\n",
        "print(f\"ChromaDB search for {len(query_vectors)} vectors took: {end_time - start_time:.4f} seconds.\")\n",
        "\n",
        "# Clean up ChromaDB from disk for a clean slate on next run\n",
        "# !rm -rf ./chroma_db"
      ]
    }
  ],
  "metadata": {
    "accelerator": "GPU",
    "colab": {
      "gpuType": "A100",
      "machine_shape": "hm",
      "provenance": []
    },
    "kernelspec": {
      "display_name": "Python 3",
      "name": "python3"
    },
    "language_info": {
      "name": "python"
    }
  },
  "nbformat": 4,
  "nbformat_minor": 0
}
